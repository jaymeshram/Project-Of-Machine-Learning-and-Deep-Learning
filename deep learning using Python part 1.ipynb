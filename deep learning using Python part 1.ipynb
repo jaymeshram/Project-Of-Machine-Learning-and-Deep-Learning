{
 "cells": [
  {
   "cell_type": "markdown",
   "metadata": {},
   "source": [
    "# Constant"
   ]
  },
  {
   "cell_type": "code",
   "execution_count": 1,
   "metadata": {},
   "outputs": [
    {
     "name": "stderr",
     "output_type": "stream",
     "text": [
      "C:\\Users\\MCT\\anaconda3\\lib\\site-packages\\tensorflow\\python\\framework\\dtypes.py:526: FutureWarning: Passing (type, 1) or '1type' as a synonym of type is deprecated; in a future version of numpy, it will be understood as (type, (1,)) / '(1,)type'.\n",
      "  _np_qint8 = np.dtype([(\"qint8\", np.int8, 1)])\n",
      "C:\\Users\\MCT\\anaconda3\\lib\\site-packages\\tensorflow\\python\\framework\\dtypes.py:527: FutureWarning: Passing (type, 1) or '1type' as a synonym of type is deprecated; in a future version of numpy, it will be understood as (type, (1,)) / '(1,)type'.\n",
      "  _np_quint8 = np.dtype([(\"quint8\", np.uint8, 1)])\n",
      "C:\\Users\\MCT\\anaconda3\\lib\\site-packages\\tensorflow\\python\\framework\\dtypes.py:528: FutureWarning: Passing (type, 1) or '1type' as a synonym of type is deprecated; in a future version of numpy, it will be understood as (type, (1,)) / '(1,)type'.\n",
      "  _np_qint16 = np.dtype([(\"qint16\", np.int16, 1)])\n",
      "C:\\Users\\MCT\\anaconda3\\lib\\site-packages\\tensorflow\\python\\framework\\dtypes.py:529: FutureWarning: Passing (type, 1) or '1type' as a synonym of type is deprecated; in a future version of numpy, it will be understood as (type, (1,)) / '(1,)type'.\n",
      "  _np_quint16 = np.dtype([(\"quint16\", np.uint16, 1)])\n",
      "C:\\Users\\MCT\\anaconda3\\lib\\site-packages\\tensorflow\\python\\framework\\dtypes.py:530: FutureWarning: Passing (type, 1) or '1type' as a synonym of type is deprecated; in a future version of numpy, it will be understood as (type, (1,)) / '(1,)type'.\n",
      "  _np_qint32 = np.dtype([(\"qint32\", np.int32, 1)])\n",
      "C:\\Users\\MCT\\anaconda3\\lib\\site-packages\\tensorflow\\python\\framework\\dtypes.py:535: FutureWarning: Passing (type, 1) or '1type' as a synonym of type is deprecated; in a future version of numpy, it will be understood as (type, (1,)) / '(1,)type'.\n",
      "  np_resource = np.dtype([(\"resource\", np.ubyte, 1)])\n"
     ]
    },
    {
     "name": "stdout",
     "output_type": "stream",
     "text": [
      "12.0\n"
     ]
    }
   ],
   "source": [
    "import tensorflow as tf\n",
    "#Create a constant value (x) and assign it the numerical value 12.\n",
    "x=tf.constant(12,dtype='float32')\n",
    "#Create a session for computing the values.\n",
    "sess=tf.Session()\n",
    "#Run just the variable x and print out its current value.\n",
    "print(sess.run(x))\n",
    "#here\n",
    "#The first two steps belong to the construction phase, and the last two steps belong to the execution phase."
   ]
  },
  {
   "cell_type": "code",
   "execution_count": 2,
   "metadata": {},
   "outputs": [
    {
     "name": "stdout",
     "output_type": "stream",
     "text": [
      "WARNING:tensorflow:From C:\\Users\\MCT\\anaconda3\\lib\\site-packages\\tensorflow\\python\\framework\\op_def_library.py:263: colocate_with (from tensorflow.python.framework.ops) is deprecated and will be removed in a future version.\n",
      "Instructions for updating:\n",
      "Colocations handled automatically by placer.\n",
      "23.0\n"
     ]
    }
   ],
   "source": [
    "#1.This above the code write for other way also....\n",
    "import tensorflow as tf\n",
    "#2.Create a constant value called x and give it the numerical value 12.\n",
    "x=tf.constant(12,dtype='float32')\n",
    "#3.create variable called y and define its as being the equation 12+11\n",
    "y=tf.Variable(x+11)\n",
    "#4.initialize the variable with tf.global_variables_initializer\n",
    "model= tf.global_variables_initializer()\n",
    "#4.create Session for computing values\n",
    "with tf.Session() as sess:\n",
    "    #6.run the model \n",
    "    sess.run(model)\n",
    "    #7.print just the variable y and print out its current value\n",
    "    print(sess.run(y))\n"
   ]
  },
  {
   "cell_type": "code",
   "execution_count": 3,
   "metadata": {},
   "outputs": [
    {
     "name": "stdout",
     "output_type": "stream",
     "text": [
      "[128 146 180 160]\n"
     ]
    }
   ],
   "source": [
    "import tensorflow as tf\n",
    "X=tf.constant([14,23,40,30])\n",
    "y=tf.Variable(X*2+100)\n",
    "model=tf.global_variables_initializer()\n",
    "with tf.Session() as sess:\n",
    "    sess.run(model)\n",
    "    print(sess.run(y))"
   ]
  },
  {
   "cell_type": "markdown",
   "metadata": {},
   "source": [
    "# Placeholder\n",
    "definition :-\n",
    "A placeholder is a variable that you can feed something to at a later time. It\n",
    "is meant to accept external inputs. Placeholders can have one or multiple\n",
    "dimensions, meant for storing n-dimensional arrays."
   ]
  },
  {
   "cell_type": "code",
   "execution_count": 4,
   "metadata": {},
   "outputs": [
    {
     "name": "stdout",
     "output_type": "stream",
     "text": [
      "[500. 550. 650. 750.]\n"
     ]
    }
   ],
   "source": [
    "import tensorflow as tf\n",
    "#Create a placeholder called x, mentioning the float type.\n",
    "x=tf.placeholder(\"float\",None)\n",
    "#Create a tensor called y that is the operation of multiplying x by 10 and adding 500 to it. Note that any initial values for x are not defined.\n",
    "y=x*10+500\n",
    "with tf.Session() as sess:\n",
    "    #Define the values of x in feed_dict so as to run y\n",
    "    placeX= sess.run(y,feed_dict={x:[0,5,15,25]})\n",
    "    print(placeX)"
   ]
  },
  {
   "cell_type": "code",
   "execution_count": 5,
   "metadata": {},
   "outputs": [
    {
     "name": "stdout",
     "output_type": "stream",
     "text": [
      "[[121.  21.   1. -19.]\n",
      " [141.  41.  11.   1.]]\n"
     ]
    }
   ],
   "source": [
    "#You can also consider a 2D array in place of the 1D array. Here is the code:\n",
    "import tensorflow as tf\n",
    "x=tf.placeholder('float',[None,4])\n",
    "y=x*10+1\n",
    "with tf.Session() as sess:\n",
    "    datax= [[12,2,0,-2],\n",
    "            [14,4,1,0]]\n",
    "    placex = sess.run(y,feed_dict={x:datax})\n",
    "    print(placex)"
   ]
  },
  {
   "cell_type": "code",
   "execution_count": 6,
   "metadata": {},
   "outputs": [
    {
     "name": "stdout",
     "output_type": "stream",
     "text": [
      "[[121.  21.   1. -19.]\n",
      " [141.  41.  11.   1.]\n",
      " [151.  51.   1. -39.]]\n"
     ]
    }
   ],
   "source": [
    "#You can also consider a 2D array in place of the 1D array. Here is the code:\n",
    "import tensorflow as tf\n",
    "x=tf.placeholder('float',[3,4])\n",
    "y=x*10+1\n",
    "with tf.Session() as sess:\n",
    "    datax= [[12,2,0,-2],\n",
    "            [14,4,1,0],\n",
    "            [15,5,0,-4]]\n",
    "    placex = sess.run(y,feed_dict={x:datax})\n",
    "    print(placex)"
   ]
  },
  {
   "cell_type": "markdown",
   "metadata": {},
   "source": [
    "# Fixed Tensors"
   ]
  },
  {
   "cell_type": "code",
   "execution_count": 7,
   "metadata": {},
   "outputs": [
    {
     "name": "stdout",
     "output_type": "stream",
     "text": [
      "[[0. 0. 0.]\n",
      " [0. 0. 0.]]\n"
     ]
    }
   ],
   "source": [
    "import tensorflow as tf\n",
    "sess = tf.Session()\n",
    "A=tf.zeros([2,3])\n",
    "print(sess.run(A))"
   ]
  },
  {
   "cell_type": "code",
   "execution_count": 8,
   "metadata": {},
   "outputs": [
    {
     "name": "stdout",
     "output_type": "stream",
     "text": [
      "[[1. 1. 1.]\n",
      " [1. 1. 1.]\n",
      " [1. 1. 1.]\n",
      " [1. 1. 1.]]\n"
     ]
    }
   ],
   "source": [
    "B=tf.ones([4,3])\n",
    "print(sess.run(B))"
   ]
  },
  {
   "cell_type": "code",
   "execution_count": 9,
   "metadata": {},
   "outputs": [
    {
     "name": "stdout",
     "output_type": "stream",
     "text": [
      "[[13 13 13]\n",
      " [13 13 13]]\n"
     ]
    }
   ],
   "source": [
    "#tf:.fill creates a tensor of shape (2×3) having a unique number\n",
    "c= tf.fill([2,3],13)\n",
    "print(sess.run(c))\n"
   ]
  },
  {
   "cell_type": "code",
   "execution_count": 10,
   "metadata": {},
   "outputs": [
    {
     "name": "stdout",
     "output_type": "stream",
     "text": [
      "[[ 4  0  0]\n",
      " [ 0 -3  0]\n",
      " [ 0  0  2]]\n"
     ]
    }
   ],
   "source": [
    "#tf.diag creates a diagonal matrix having specified diagonal elements.\n",
    "d=tf.diag([4,-3,2])\n",
    "print(sess.run(d))"
   ]
  },
  {
   "cell_type": "code",
   "execution_count": 11,
   "metadata": {},
   "outputs": [
    {
     "name": "stdout",
     "output_type": "stream",
     "text": [
      "[5 2 4 2]\n"
     ]
    }
   ],
   "source": [
    "#tf.constant creates a constant tensor.\n",
    "e=tf.constant([5,2,4,2])\n",
    "print(sess.run(e))"
   ]
  },
  {
   "cell_type": "code",
   "execution_count": null,
   "metadata": {},
   "outputs": [],
   "source": []
  },
  {
   "cell_type": "markdown",
   "metadata": {},
   "source": [
    "# Sequance Tensors"
   ]
  },
  {
   "cell_type": "code",
   "execution_count": 12,
   "metadata": {},
   "outputs": [
    {
     "name": "stdout",
     "output_type": "stream",
     "text": [
      "[ 6  9 12 15 18 21 24 27 30 33 36 39 42]\n"
     ]
    }
   ],
   "source": [
    "#tf.range creates a sequence of numbers starting from the specified value and having a specified increment.\n",
    "g=tf.range(start=6, limit=45, delta=3)\n",
    "#start 6 and limit 45 between.\n",
    "print(sess.run(g))"
   ]
  },
  {
   "cell_type": "code",
   "execution_count": 13,
   "metadata": {},
   "outputs": [
    {
     "name": "stdout",
     "output_type": "stream",
     "text": [
      "[10.  30.5 51.  71.5 92. ]\n"
     ]
    }
   ],
   "source": [
    "h=tf.linspace(10.0,92.0,5)\n",
    "print(sess.run(h))"
   ]
  },
  {
   "cell_type": "markdown",
   "metadata": {},
   "source": [
    "# Random Tensors\n"
   ]
  },
  {
   "cell_type": "code",
   "execution_count": 14,
   "metadata": {},
   "outputs": [
    {
     "name": "stdout",
     "output_type": "stream",
     "text": [
      "[[3.4114933  2.89533    3.9183974 ]\n",
      " [0.35078716 0.01978588 0.4591875 ]]\n"
     ]
    }
   ],
   "source": [
    "#tf.random_uniform generates random values from uniform distribution within a range.\n",
    "r1=tf.random_uniform([2,3], minval=0,maxval=4)\n",
    "print(sess.run(r1))\n"
   ]
  },
  {
   "cell_type": "code",
   "execution_count": 15,
   "metadata": {},
   "outputs": [
    {
     "name": "stdout",
     "output_type": "stream",
     "text": [
      "[[4.225191  7.1029377 2.1650224]\n",
      " [5.827933  4.8723984 2.4348762]]\n"
     ]
    }
   ],
   "source": [
    "#tf.random_normal generates random values from the normal distribution having the specified mean and standard deviation.\n",
    "r2=tf.random_normal([2,3],mean=5, stddev=4)\n",
    "print(sess.run(r2))"
   ]
  },
  {
   "cell_type": "code",
   "execution_count": 16,
   "metadata": {},
   "outputs": [
    {
     "name": "stdout",
     "output_type": "stream",
     "text": [
      "[[ 3  0  0]\n",
      " [ 0 -2  0]\n",
      " [ 0  0  4]]\n"
     ]
    }
   ],
   "source": [
    "print(sess.run(tf.diag([3,-2,4])))"
   ]
  },
  {
   "cell_type": "code",
   "execution_count": 17,
   "metadata": {},
   "outputs": [
    {
     "name": "stdout",
     "output_type": "stream",
     "text": [
      "[[ 0 -2  0]\n",
      " [ 0  0  4]\n",
      " [ 3  0  0]]\n"
     ]
    }
   ],
   "source": [
    "r3=tf.random_shuffle(tf.diag([3,-2,4]))\n",
    "print(sess.run(r3))"
   ]
  },
  {
   "cell_type": "code",
   "execution_count": 18,
   "metadata": {},
   "outputs": [
    {
     "name": "stdout",
     "output_type": "stream",
     "text": [
      "[[ 0  0]\n",
      " [-2  0]\n",
      " [ 0  4]]\n"
     ]
    }
   ],
   "source": [
    "r4=tf.random_crop(tf.diag([3,-2,4]),[3,2])\n",
    "print(sess.run(r4))"
   ]
  },
  {
   "cell_type": "code",
   "execution_count": 19,
   "metadata": {},
   "outputs": [
    {
     "name": "stdout",
     "output_type": "stream",
     "text": [
      "[[0. 0. 0. 0.]\n",
      " [0. 0. 0. 0.]]\n"
     ]
    }
   ],
   "source": [
    "\n",
    "print(sess.run(tf.zeros([2,4])))"
   ]
  },
  {
   "cell_type": "code",
   "execution_count": 20,
   "metadata": {},
   "outputs": [
    {
     "name": "stdout",
     "output_type": "stream",
     "text": [
      "[[ 3  0  0  0]\n",
      " [ 0  1  0  0]\n",
      " [ 0  0  5  0]\n",
      " [ 0  0  0 -2]]\n"
     ]
    }
   ],
   "source": [
    "print(sess.run(tf.diag([3,1,5,-2])))"
   ]
  },
  {
   "cell_type": "code",
   "execution_count": 21,
   "metadata": {},
   "outputs": [
    {
     "name": "stdout",
     "output_type": "stream",
     "text": [
      "[ 4  6  8 10 12 14]\n"
     ]
    }
   ],
   "source": [
    "print(sess.run(tf.range(start=4,limit=16,delta=2)))"
   ]
  },
  {
   "cell_type": "markdown",
   "metadata": {},
   "source": [
    "# Working on Matrices"
   ]
  },
  {
   "cell_type": "code",
   "execution_count": 22,
   "metadata": {},
   "outputs": [
    {
     "name": "stdout",
     "output_type": "stream",
     "text": [
      "[[0.6441035  0.93435967]\n",
      " [0.57718    0.42488158]\n",
      " [0.248021   0.386675  ]]\n",
      "[[3.5 3.5 3.5 3.5]\n",
      " [3.5 3.5 3.5 3.5]]\n",
      "[[ 0.86134183  0.9793196  -0.483401    0.5903341 ]\n",
      " [ 0.17279552  0.8748956   0.32328528 -0.4034823 ]\n",
      " [-0.29830733 -1.4047506   1.1727301   1.2014924 ]]\n"
     ]
    }
   ],
   "source": [
    "#Once you are comfortable creating tensors, you can enjoy working on matrices (2D tensors).\n",
    "import tensorflow as tf\n",
    "import numpy as np\n",
    "sess=tf.Session()\n",
    "A=tf.random_uniform([3,2])\n",
    "B=tf.fill([2,4],3.5)\n",
    "C=tf.random_normal([3,4])\n",
    "print(sess.run(A))\n",
    "print(sess.run(B))\n",
    "print(sess.run(C))"
   ]
  },
  {
   "cell_type": "code",
   "execution_count": 23,
   "metadata": {},
   "outputs": [
    {
     "name": "stdout",
     "output_type": "stream",
     "text": [
      "[[5.6279635 5.6279635 5.6279635 5.6279635]\n",
      " [1.5864578 1.5864578 1.5864578 1.5864578]\n",
      " [4.1436124 4.1436124 4.1436124 4.1436124]]\n"
     ]
    }
   ],
   "source": [
    "print(sess.run(tf.matmul(A,B))) #multiplication of matrices"
   ]
  },
  {
   "cell_type": "code",
   "execution_count": 24,
   "metadata": {},
   "outputs": [
    {
     "name": "stdout",
     "output_type": "stream",
     "text": [
      "[[2.246577  2.728948  3.9258337 2.8580046]\n",
      " [4.7225094 5.0515285 5.492009  7.032177 ]\n",
      " [1.5739555 0.4649148 1.4587784 2.5611954]]\n"
     ]
    }
   ],
   "source": [
    "print(sess.run(tf.matmul(A,B)+C)) #multiplication  and addition of matrices"
   ]
  },
  {
   "cell_type": "code",
   "execution_count": 25,
   "metadata": {},
   "outputs": [],
   "source": [
    "import cv2"
   ]
  },
  {
   "cell_type": "code",
   "execution_count": 26,
   "metadata": {},
   "outputs": [],
   "source": [
    "img=cv2.imread('active function.png')\n",
    "cv2.imshow('image',img)\n",
    "cv2.waitKey(0)\n",
    "cv2.destroyAllWindows()"
   ]
  },
  {
   "cell_type": "code",
   "execution_count": 27,
   "metadata": {},
   "outputs": [
    {
     "data": {
      "text/plain": [
       "<matplotlib.image.AxesImage at 0x1d0aab44488>"
      ]
     },
     "execution_count": 27,
     "metadata": {},
     "output_type": "execute_result"
    },
    {
     "data": {
      "image/png": "[encoded data removed]",
      "text/plain": [
       "<Figure size 432x288 with 1 Axes>"
      ]
     },
     "metadata": {
      "needs_background": "light"
     },
     "output_type": "display_data"
    }
   ],
   "source": [
    "import matplotlib.image as mpimg\n",
    "import matplotlib.pyplot as plt\n",
    "img= mpimg.imread('active function.png')\n",
    "plt.imshow(img)"
   ]
  },
  {
   "cell_type": "code",
   "execution_count": 28,
   "metadata": {},
   "outputs": [
    {
     "data": {
      "image/png": "[encoded data removed]",
      "text/plain": [
       "<IPython.core.display.Image object>"
      ]
     },
     "execution_count": 28,
     "metadata": {
      "image/png": {
       "height": 400,
       "width": 400
      }
     },
     "output_type": "execute_result"
    }
   ],
   "source": [
    "from IPython.display import Image\n",
    "Image(filename='active function.png',width=400, height=400)"
   ]
  },
  {
   "cell_type": "code",
   "execution_count": 29,
   "metadata": {},
   "outputs": [
    {
     "name": "stdout",
     "output_type": "stream",
     "text": [
      "[ 1.          0.9640276   0.7615942   0.46211717  0.         -0.46211717\n",
      " -0.7615942  -0.9640276  -1.        ]\n"
     ]
    }
   ],
   "source": [
    "E=tf.nn.tanh([10,2,1,0.5,0,-0.5,-1.,-2.,-10.])\n",
    "print(sess.run(E))"
   ]
  },
  {
   "cell_type": "code",
   "execution_count": 30,
   "metadata": {},
   "outputs": [
    {
     "name": "stdout",
     "output_type": "stream",
     "text": [
      "[9.9995458e-01 8.8079709e-01 7.3105860e-01 6.2245929e-01 5.0000000e-01\n",
      " 3.7754071e-01 2.6894143e-01 1.1920291e-01 4.5397872e-05]\n"
     ]
    }
   ],
   "source": [
    "J=tf.nn.sigmoid([10,2,1,0.5,0,-0.5,-1.,-2.,-10.])\n",
    "print(sess.run(J))"
   ]
  },
  {
   "cell_type": "code",
   "execution_count": 31,
   "metadata": {},
   "outputs": [
    {
     "name": "stdout",
     "output_type": "stream",
     "text": [
      "[ 0  1  0 13]\n"
     ]
    }
   ],
   "source": [
    "#relu\n",
    "A=tf.nn.relu([-2,1,-3,13])\n",
    "print(sess.run(A))"
   ]
  },
  {
   "cell_type": "code",
   "execution_count": 32,
   "metadata": {},
   "outputs": [
    {
     "name": "stdout",
     "output_type": "stream",
     "text": [
      "[0 1 0 6]\n"
     ]
    }
   ],
   "source": [
    "#ReLU6 is similar to ReLU except that the output cannot be more than six ever.\n",
    "B=tf.nn.relu6([-2,1,-3,13])\n",
    "print(sess.run(B))"
   ]
  },
  {
   "cell_type": "code",
   "execution_count": 33,
   "metadata": {},
   "outputs": [
    {
     "name": "stdout",
     "output_type": "stream",
     "text": [
      "[[ 0  1  0]\n",
      " [10  0  0]]\n"
     ]
    }
   ],
   "source": [
    "c=tf.nn.relu([[-2,1,-3],[10,-16,-5]])\n",
    "print(sess.run(c))"
   ]
  },
  {
   "cell_type": "code",
   "execution_count": 34,
   "metadata": {},
   "outputs": [
    {
     "name": "stdout",
     "output_type": "stream",
     "text": [
      "[10.   2.   1.   0.5  0.   0.   0.   0.   0. ]\n"
     ]
    }
   ],
   "source": [
    "k=tf.nn.relu([10,2,1,0.5,0,-0.5,-1.,-2.,-10.])\n",
    "print(sess.run(k))"
   ]
  },
  {
   "cell_type": "code",
   "execution_count": 35,
   "metadata": {},
   "outputs": [
    {
     "name": "stdout",
     "output_type": "stream",
     "text": [
      "[1.0000046e+01 2.1269281e+00 1.3132616e+00 9.7407699e-01 6.9314718e-01\n",
      " 4.7407699e-01 3.1326163e-01 1.2692805e-01 4.5417706e-05]\n"
     ]
    }
   ],
   "source": [
    "l=tf.nn.softplus([10,2,1,0.5,0,-0.5,-1.,-2.,-10.])\n",
    "print(sess.run(l))"
   ]
  },
  {
   "cell_type": "code",
   "execution_count": 36,
   "metadata": {},
   "outputs": [
    {
     "name": "stdout",
     "output_type": "stream",
     "text": [
      "[10.          2.          1.          0.5         0.         -0.39346933\n",
      " -0.63212055 -0.86466473 -0.9999546 ]\n"
     ]
    }
   ],
   "source": [
    "o=tf.nn.elu([10,2,1,0.5,0,-0.5,-1.,-2.,-10.])\n",
    "print(sess.run(o))"
   ]
  },
  {
   "cell_type": "code",
   "execution_count": 37,
   "metadata": {},
   "outputs": [
    {
     "name": "stdout",
     "output_type": "stream",
     "text": [
      "[6.  2.  1.  0.5 0.  0.  0.  0.  0. ]\n"
     ]
    }
   ],
   "source": [
    "m=tf.nn.relu6([10,2,1,0.5,0,-0.5,-1.,-2.,-10.])\n",
    "print(sess.run(m))"
   ]
  },
  {
   "cell_type": "code",
   "execution_count": 38,
   "metadata": {},
   "outputs": [
    {
     "name": "stdout",
     "output_type": "stream",
     "text": [
      "[ 0.90909094  0.6666667   0.5         0.33333334  0.         -0.33333334\n",
      " -0.5        -0.6666667  -0.90909094]\n"
     ]
    }
   ],
   "source": [
    "g=tf.nn.softsign([10,2,1,0.5,0,-0.5,-1.,-2.,-10.])\n",
    "print(sess.run(g))"
   ]
  },
  {
   "cell_type": "code",
   "execution_count": 39,
   "metadata": {},
   "outputs": [
    {
     "name": "stdout",
     "output_type": "stream",
     "text": [
      "[1.0000046e+01 2.1269281e+00 1.3132616e+00 9.7407699e-01 6.9314718e-01\n",
      " 4.7407699e-01 3.1326163e-01 1.2692805e-01 4.5417706e-05]\n"
     ]
    }
   ],
   "source": [
    "E=tf.nn.softplus([10,2,1,0.5,0,-0.5,-1.,-2.,-10.])\n",
    "print(sess.run(E))"
   ]
  },
  {
   "cell_type": "markdown",
   "metadata": {},
   "source": [
    "# Loss Function \n",
    "The loss function (cost function) is to be minimized so as to get the best\n",
    "values for each parameter of the model. For example, you need to get the\n",
    "best value of the weight (slope) and bias (y-intercept) so as to explain the\n",
    "target (y) in terms of the predictor (X). The method is to achieve the best\n",
    "value of the slope, and y-intercept is to minimize the cost function/loss\n",
    "function/sum of squares. For any model, there are numerous parameters,\n",
    "and the model structure in prediction or classification is expressed in\n",
    "terms of the values of the parameters.\n",
    "You need to evaluate your model, and for that you need to define the\n",
    "cost function (loss function). The minimization of the loss function can\n",
    "be the driving force for finding the optimum value of each parameter. for regression/numeric prediction, L1 or L2 can be the useful loss function.\n",
    "For classification, cross entropy can be the useful loss function. Softmax or\n",
    "sigmoid cross entropy can be quite popular loss functions."
   ]
  },
  {
   "cell_type": "code",
   "execution_count": 41,
   "metadata": {},
   "outputs": [],
   "source": [
    "import tensorflow as tf\n",
    "import numpy as np\n",
    "sess=tf.Session()"
   ]
  },
  {
   "cell_type": "code",
   "execution_count": 43,
   "metadata": {},
   "outputs": [],
   "source": [
    "#Assuming Prediction model\n",
    "pred=np.asarray([0.2,0.3,0.5,10.0,12.0,13.0,3.5,7.4,3.9,2.3])\n",
    "#convert ndarray into tensor\n",
    "x_val=tf.convert_to_tensor(pred)\n",
    "#assuming actual values\n",
    "actual=np.asarray([0.1,0.4,0.6,9.0,11.0,12.0,3.4,7.1,3.8,2.0])"
   ]
  },
  {
   "cell_type": "code",
   "execution_count": 44,
   "metadata": {},
   "outputs": [
    {
     "name": "stdout",
     "output_type": "stream",
     "text": [
      "[0. 0. 0. 1. 1. 1. 0. 0. 0. 0.]\n"
     ]
    }
   ],
   "source": [
    "#l2 loss:l1=(pred-actual)^2\n",
    "l2=tf.square(pred-actual)\n",
    "l2_out=sess.run(tf.round(l2))\n",
    "print(l2_out)"
   ]
  },
  {
   "cell_type": "code",
   "execution_count": 47,
   "metadata": {},
   "outputs": [
    {
     "name": "stdout",
     "output_type": "stream",
     "text": [
      "[0.1 0.1 0.1 1.  1.  1.  0.1 0.3 0.1 0.3]\n"
     ]
    }
   ],
   "source": [
    "#l2 loss:l1=(pred-actual)\n",
    "l1=tf.abs(pred-actual)\n",
    "l1_out=sess.run(l1)\n",
    "print(l1_out)"
   ]
  },
  {
   "cell_type": "code",
   "execution_count": 48,
   "metadata": {},
   "outputs": [
    {
     "name": "stdout",
     "output_type": "stream",
     "text": [
      "[0.74439666 0.74439666 0.74439666 0.31326169 0.31326169 0.31326169\n",
      " 0.74439666 0.85435524 0.74439666 0.85435524]\n"
     ]
    }
   ],
   "source": [
    "#cross entropy loss\n",
    "softmax_xentropy_variable=tf.nn.sigmoid_cross_entropy_with_logits(logits=l1_out,labels=l2_out)\n",
    "print(sess.run(softmax_xentropy_variable))"
   ]
  },
  {
   "cell_type": "markdown",
   "metadata": {},
   "source": [
    "# Optimizers\n",
    "Now you should be convinced that you need to use a loss function to\n",
    "get the best value of each parameter of the model. How can you get the\n",
    "best value?\n",
    "Initially you assume the initial values of weight and bias for the model\n",
    "(linear regression, etc.). Now you need to find the way to reach to the\n",
    "best value of the parameters. The optimizer is the way to reach the best\n",
    "value of the parameters. In each iteration, the value changes in a direction\n",
    "suggested by the optimizer. Suppose you have 16 weight values (w1, w2,\n",
    "w3, …, w16) and 4 biases (b1, b2, b3, b4). Initially you can assume every\n",
    "weight and bias to be zero (or one or any number). The optimizer suggests\n",
    "whether w1 (and other parameters) should increase or decrease in the\n",
    "next iteration while keeping the goal of minimization in mind. After many\n",
    "iterations, w1 (and other parameters) would stabilize to the best value\n",
    "(or values) of parameters.\n",
    "In other words, TensorFlow, and every other deep learning framework,\n",
    "provides optimizers that slowly change each parameter in order to\n",
    "minimize the loss function. The purpose of the optimizers is to give\n",
    "direction to the weight and bias for the change in the next iteration.\n",
    "Assume that you have 64 weights and 16 biases; you try to change the\n",
    "weight and bias values in each iteration (during backpropagation) so that\n",
    "you get the correct values of weights and biases after many iterations while\n",
    "trying to minimize the loss function.\n",
    "Selecting the best optimizer for the model to converge fast and to learn\n",
    "weights and biases properly is a tricky task.\n",
    "Adaptive techniques (adadelta, adagrad, etc.) are good optimizers\n",
    "for converging faster for complex neural networks. Adam is supposedly\n",
    "the best optimizer for most cases. It also outperforms other adaptive\n",
    "techniques (adadelta, adagrad, etc.), but it is computationally costly. For\n",
    "sparse data sets, methods such as SGD, NAG, and momentum are not the\n",
    "best options; the adaptive learning rate methods are"
   ]
  },
  {
   "cell_type": "code",
   "execution_count": 49,
   "metadata": {},
   "outputs": [],
   "source": [
    "import tensorflow as tf"
   ]
  },
  {
   "cell_type": "code",
   "execution_count": 54,
   "metadata": {},
   "outputs": [
    {
     "name": "stdout",
     "output_type": "stream",
     "text": [
      "starting at x: 3.0 log(x)^2: 1.206949\n",
      "step 0 x: 2.4873142 log(x)^2: 0.8302918\n",
      "step 1 x: 1.9744377 log(x)^2: 0.46278587\n",
      "step 2 x: 1.492074 log(x)^2: 0.16013372\n",
      "step 3 x: 1.1166008 log(x)^2: 0.01216367\n",
      "step 4 x: 0.97831976 log(x)^2: 0.00048042962\n",
      "step 5 x: 1.009686 log(x)^2: 9.2917726e-05\n",
      "step 6 x: 0.9963203 log(x)^2: 1.3590131e-05\n",
      "step 7 x: 1.0015005 log(x)^2: 2.2480888e-06\n",
      "step 8 x: 0.99940455 log(x)^2: 3.5477242e-07\n",
      "step 9 x: 1.0002389 log(x)^2: 5.7057385e-08\n"
     ]
    }
   ],
   "source": [
    "#Assing the value into variable\n",
    "x=tf.Variable(3, name='x',dtype=tf.float32)\n",
    "log_x=tf.log(x)\n",
    "log_x_squared=tf.square(log_x)\n",
    "#apply GradientDescentOptimizer\n",
    "optimizer = tf.train.GradientDescentOptimizer(0.7)\n",
    "train=optimizer.minimize(log_x_squared)\n",
    "#initalize variables\n",
    "init= tf.global_variables_initializer()\n",
    "\n",
    "#finally running computation\n",
    "with tf.Session() as session:\n",
    "    session.run(init)\n",
    "    print('starting at', 'x:',session.run(x), 'log(x)^2:',session.run(log_x_squared))\n",
    "    for step in range(10):\n",
    "        session.run(train)\n",
    "        print('step', step,'x:',session.run(x), 'log(x)^2:',session.run(log_x_squared))\n",
    "        "
   ]
  },
  {
   "cell_type": "markdown",
   "metadata": {},
   "source": [
    "# Metrics\n",
    "Having learned some ways to build a model, it is time to evaluate the\n",
    "model. So, you need to evaluate the regressor or classifier.\n",
    "There are many evaluation metrics, among which classification\n",
    "accuracy, logarithmic loss, and area under ROC curve are the most popular\n",
    "ones.\n",
    "Classification accuracy is the ratio of the number of correct predictions\n",
    "to the number of all predictions. When observations for each class are not\n",
    "much skewed, accuracy can be considered as a good metric.\n",
    "tf.contrib.metrics.accuracy(actual_labels, predictions)\n"
   ]
  },
  {
   "cell_type": "markdown",
   "metadata": {},
   "source": [
    "# Metrics Examples\n",
    "\n",
    "Metrics Examples\n",
    "This section shows the code to demonstrate.\n",
    "Here you create actual values (calling them x) and predicted values\n",
    "(calling them y). Then you check the accuracy. Accuracy represents the\n",
    "ratio of the number of times the actual equals the predicted values and\n",
    "total number of instances."
   ]
  },
  {
   "cell_type": "code",
   "execution_count": 61,
   "metadata": {},
   "outputs": [
    {
     "name": "stderr",
     "output_type": "stream",
     "text": [
      "C:\\Users\\MCT\\anaconda3\\lib\\site-packages\\tensorflow\\python\\client\\session.py:1702: UserWarning: An interactive session is already active. This can cause out-of-memory errors in some cases. You must explicitly call `InteractiveSession.close()` to release resources held by the other session(s).\n",
      "  warnings.warn('An interactive session is already active. This can '\n"
     ]
    },
    {
     "name": "stdout",
     "output_type": "stream",
     "text": [
      "0.4\n"
     ]
    }
   ],
   "source": [
    "import tensorflow as tf\n",
    "import numpy as np\n",
    "#placeholder declaration\n",
    "x=tf.placeholder(tf.int32,[5])\n",
    "y=tf.placeholder(tf.int32,[5])\n",
    "#metrics declaration\n",
    "acc, acc_op=tf.metrics.accuracy(labels=x, predictions=y)\n",
    "#session intilization\n",
    "sess=tf.InteractiveSession()\n",
    "sess.run(tf.global_variables_initializer())\n",
    "sess.run(tf.local_variables_initializer())\n",
    "#value assign\n",
    "val=sess.run([acc,acc_op], feed_dict={x:[1,1,0,1,0],y:[0,1,0,0,1]})\n",
    "#print accuracy\n",
    "val_acc=sess.run(acc)\n",
    "print(val_acc)"
   ]
  },
  {
   "cell_type": "markdown",
   "metadata": {},
   "source": [
    "# Understanding and  Working with Keras\n",
    "Keras is a compact and easy-to-learn high-level Python library for deep\n",
    "learning that can run on top of TensorFlow (or Theano or CNTK). It\n",
    "allows developers to focus on the main concepts of deep learning, such\n",
    "as creating layers for neural networks, while taking care of the nitty-gritty\n",
    "details of tensors, their shapes, and their mathematical details. TensorFlow\n",
    "(or Theano or CNTK) has to be the back end for Keras. You can use Keras\n",
    "for deep learning applications without interacting with the relatively\n",
    "complex TensorFlow (or Theano or CNTK). There are two major kinds\n",
    "of framework: the sequential API and the functional API. The sequential\n",
    "API is based on the idea of a sequence of layers; this is the most common\n",
    "usage of Keras and the easiest part of Keras. The sequential model can be\n",
    "considered as a linear stack of layers.\n",
    "In short, you create a sequential model where you can easily add\n",
    "layers, and each layer can have convolution, max pooling, activation, dropout, and batch normalization. Let’s go through major steps to develop\n",
    "deep learning models in Keras."
   ]
  },
  {
   "cell_type": "markdown",
   "metadata": {},
   "source": [
    "# Major Steps to Deep Learning Models\n",
    "The four core parts of deep learning models in Keras are as follows:\n",
    "1. Define the model. Here you create a sequential\n",
    "model and add layers. Each layer can contain one\n",
    "or more convolution, pooling, batch normalization,\n",
    "and activation function.\n",
    "2. Compile the model. Here you apply the loss\n",
    "function and optimizer before calling the compile()\n",
    "function on the model.\n",
    "3. Fit the model with training data. Here you train the\n",
    "model on the test data by calling the fit() function\n",
    "on the model.\n",
    "4. Make predictions. Here you use the model to\n",
    "generate predictions on new data by calling\n",
    "functions such as evaluate() and predict().\n",
    "\n",
    "There are eight steps to the deep learning process in Keras:\n",
    "1. Load the data.\n",
    "2. Preprocess the data.\n",
    "3. Define the model.\n",
    "4. Compile the model.\n",
    "5. Fit the model.\n",
    "6. Evaluate the model.\n",
    "7. Make the predictions.\n",
    "8. Save the model"
   ]
  },
  {
   "cell_type": "code",
   "execution_count": 2,
   "metadata": {},
   "outputs": [
    {
     "name": "stderr",
     "output_type": "stream",
     "text": [
      "Using TensorFlow backend.\n",
      "C:\\Users\\MCT\\anaconda3\\lib\\site-packages\\tensorflow\\python\\framework\\dtypes.py:526: FutureWarning: Passing (type, 1) or '1type' as a synonym of type is deprecated; in a future version of numpy, it will be understood as (type, (1,)) / '(1,)type'.\n",
      "  _np_qint8 = np.dtype([(\"qint8\", np.int8, 1)])\n",
      "C:\\Users\\MCT\\anaconda3\\lib\\site-packages\\tensorflow\\python\\framework\\dtypes.py:527: FutureWarning: Passing (type, 1) or '1type' as a synonym of type is deprecated; in a future version of numpy, it will be understood as (type, (1,)) / '(1,)type'.\n",
      "  _np_quint8 = np.dtype([(\"quint8\", np.uint8, 1)])\n",
      "C:\\Users\\MCT\\anaconda3\\lib\\site-packages\\tensorflow\\python\\framework\\dtypes.py:528: FutureWarning: Passing (type, 1) or '1type' as a synonym of type is deprecated; in a future version of numpy, it will be understood as (type, (1,)) / '(1,)type'.\n",
      "  _np_qint16 = np.dtype([(\"qint16\", np.int16, 1)])\n",
      "C:\\Users\\MCT\\anaconda3\\lib\\site-packages\\tensorflow\\python\\framework\\dtypes.py:529: FutureWarning: Passing (type, 1) or '1type' as a synonym of type is deprecated; in a future version of numpy, it will be understood as (type, (1,)) / '(1,)type'.\n",
      "  _np_quint16 = np.dtype([(\"quint16\", np.uint16, 1)])\n",
      "C:\\Users\\MCT\\anaconda3\\lib\\site-packages\\tensorflow\\python\\framework\\dtypes.py:530: FutureWarning: Passing (type, 1) or '1type' as a synonym of type is deprecated; in a future version of numpy, it will be understood as (type, (1,)) / '(1,)type'.\n",
      "  _np_qint32 = np.dtype([(\"qint32\", np.int32, 1)])\n",
      "C:\\Users\\MCT\\anaconda3\\lib\\site-packages\\tensorflow\\python\\framework\\dtypes.py:535: FutureWarning: Passing (type, 1) or '1type' as a synonym of type is deprecated; in a future version of numpy, it will be understood as (type, (1,)) / '(1,)type'.\n",
      "  np_resource = np.dtype([(\"resource\", np.ubyte, 1)])\n"
     ]
    }
   ],
   "source": [
    "#1.Load Data\n",
    "import numpy as np\n",
    "import os\n",
    "import keras"
   ]
  },
  {
   "cell_type": "code",
   "execution_count": 3,
   "metadata": {},
   "outputs": [],
   "source": [
    "from keras.datasets import cifar10"
   ]
  },
  {
   "cell_type": "code",
   "execution_count": 6,
   "metadata": {},
   "outputs": [],
   "source": [
    "from keras.models import Sequential\n",
    "from keras.layers.core import Dense,Dropout, Activation\n",
    "from keras.optimizers import adam\n",
    "from keras.utils import np_utils"
   ]
  },
  {
   "cell_type": "code",
   "execution_count": 7,
   "metadata": {},
   "outputs": [
    {
     "name": "stdout",
     "output_type": "stream",
     "text": [
      "Downloading data from http://www.cs.toronto.edu/~kriz/cifar-10-python.tar.gz\n",
      "170500096/170498071 [==============================] - 5176s  \n"
     ]
    }
   ],
   "source": [
    "#load data\n",
    "np.random.seed(10) #for reproducibility\n",
    "(X_train,y_train),(X_test,y_test)=cifar10.load_data()"
   ]
  },
  {
   "cell_type": "code",
   "execution_count": null,
   "metadata": {},
   "outputs": [],
   "source": [
    "#cifar-10 has images of airplane,automobile ,bird,cat,\n",
    "#deer,dog,frog,horse,ship and truck(10 unique labels)\n",
    "#for each image,width=32, height=32, number of channels=3(RGB)"
   ]
  },
  {
   "cell_type": "code",
   "execution_count": 8,
   "metadata": {},
   "outputs": [],
   "source": [
    "#preprocess the data\n",
    "#flatten the data, MLP doesn't use the 2D structure of the data.3072=3*32*32\n",
    "X_train=X_train.reshape(50000,3072) # 50,000 images traning\n",
    "X_test=X_test.reshape(10000,3072) #10,000 images testing"
   ]
  },
  {
   "cell_type": "code",
   "execution_count": 9,
   "metadata": {},
   "outputs": [],
   "source": [
    "#Gaussion Normalization(Z-score)\n",
    "X_train=(X_train- np.mean(X_train))/np.std(X_train)\n",
    "X_test=(X_test-np.mean(X_test))/np.std(X_test)"
   ]
  },
  {
   "cell_type": "code",
   "execution_count": 10,
   "metadata": {},
   "outputs": [],
   "source": [
    "#covert class vectors to binary class matrics(i.e one-hot vectors)\n",
    "labels=10 #10 unique labels(0-9)\n",
    "y_train=np_utils.to_categorical(y_train,labels)\n",
    "y_test=np_utils.to_categorical(y_test,labels)"
   ]
  },
  {
   "cell_type": "markdown",
   "metadata": {},
   "source": [
    "# Define The Model\n",
    "Sequential models in Keras are defined as a sequence of layers. You\n",
    "create a sequential model and then add layers. You need to ensure the\n",
    "input layer has the right number of inputs. Assume that you have 3,072\n",
    "input variables; then you need to create the first hidden layer with 512\n",
    "nodes/neurons. In the second hidden layer, you have 120 nodes/neurons.\n",
    "Finally, you have ten nodes in the output layer. For example, an image\n",
    "maps onto ten nodes that shows the probability of being label1 (airplane),\n",
    "label2 (automobile), label3 (cat), …, label10 (truck). The node of highest\n",
    "probability is the predicted class/label."
   ]
  },
  {
   "cell_type": "code",
   "execution_count": 11,
   "metadata": {},
   "outputs": [
    {
     "name": "stdout",
     "output_type": "stream",
     "text": [
      "WARNING:tensorflow:From C:\\Users\\MCT\\anaconda3\\lib\\site-packages\\tensorflow\\python\\framework\\op_def_library.py:263: colocate_with (from tensorflow.python.framework.ops) is deprecated and will be removed in a future version.\n",
      "Instructions for updating:\n",
      "Colocations handled automatically by placer.\n",
      "WARNING:tensorflow:From C:\\Users\\MCT\\anaconda3\\lib\\site-packages\\keras\\backend\\tensorflow_backend.py:2880: calling dropout (from tensorflow.python.ops.nn_ops) with keep_prob is deprecated and will be removed in a future version.\n",
      "Instructions for updating:\n",
      "Please use `rate` instead of `keep_prob`. Rate should be set to `rate = 1 - keep_prob`.\n"
     ]
    }
   ],
   "source": [
    "#define the model architecture\n",
    "model=Sequential()\n",
    "model.add(Dense(512,input_shape=(3072,))) #3*32*32=3072\n",
    "model.add(Activation('relu'))\n",
    "model.add(Dropout(0.4)) #regularization\n",
    "model.add(Dense(120))\n",
    "model.add(Activation('relu'))\n",
    "model.add(Dropout(0.2))\n",
    "model.add(Dense(labels)) #last layer 10 outputs , each output per class\n",
    "model.add(Activation('sigmoid'))\n"
   ]
  },
  {
   "cell_type": "markdown",
   "metadata": {},
   "source": [
    "# In Above Code\n",
    "The next question is, how do you know the number of layers to use and\n",
    "their types? No one has the exact answer. What’s best for evaluation metrics is\n",
    "that you decide the optimum number of layers and the parameters and steps\n",
    "in each layer. A heuristics approach is also used. The best network structure\n",
    "is found through a process of trial-and-error experimentation. Generally, you\n",
    "need a network large enough to capture the structure of the problem.\n",
    "In this example, you will use a fully connected network structure with\n",
    "three layers. A dense class defines fully connected layers.\n",
    "In this case, you initialize the network weights to a small random\n",
    "number generated from a uniform distribution (uniform) in this\n",
    "case between 0 and 0.05 because that is the default uniform weight\n",
    "initialization in Keras. Another traditional alternative would be normal for\n",
    "small random numbers generated from a Gaussian distribution. You use or\n",
    "snap to a hard classification of either class with a default threshold of 0.5.\n",
    "You can piece it all together by adding each layer."
   ]
  },
  {
   "cell_type": "markdown",
   "metadata": {},
   "source": [
    "# Compile the Model\n",
    "Having defined the model in terms of layers, you need to declare the loss\n",
    "function, the optimizer, and the evaluation metrics. When the model is\n",
    "proposed, the initial weight and bias values are assumed to be 0 or 1, a\n",
    "random normally distributed number, or any other convenient numbers.\n",
    "But the initial values are not the best values for the model. This means the\n",
    "initial values of weight and bias are not able to explain the target/label in\n",
    "terms of predictors (Xs). So, you want to get the optimal value for the model.\n",
    "The journey from initial values to optimal values needs a motivation, which\n",
    "will minimize the cost function/loss function. The journey needs a path\n",
    "(change in each iteration), which is suggested by the optimizer. The journey\n",
    "also needs an evaluation measurement, or evaluation metrics. \n"
   ]
  },
  {
   "cell_type": "code",
   "execution_count": 19,
   "metadata": {},
   "outputs": [],
   "source": [
    "#complie the model #use adam as an optimizer\n",
    "adam=adam\n",
    "#the cross entropy between the true label and the output(softmax) of the model\n",
    "model.compile(loss='categorical_crossentropy',optimizer=adam, metrics=['accuracy'])\n"
   ]
  },
  {
   "cell_type": "markdown",
   "metadata": {},
   "source": [
    "# Above the code\n",
    "Popular loss functions are binary cross entropy, categorical cross\n",
    "entropy, mean_squared_logarithmic_error and hinge loss. Popular\n",
    "optimizers are stochastic gradient descent (SGD), RMSProp, adam,\n",
    "adagrad, and adadelta. Popular evaluation metrics are accuracy, recall,\n",
    "and F1 score.\n",
    "In short, this step is aimed at tuning the weights and biases based on\n",
    "loss functions through iterations based on the optimizer evaluated by\n",
    "metrics such as accuracy"
   ]
  },
  {
   "cell_type": "markdown",
   "metadata": {},
   "source": [
    "# Fit the Model\n",
    "Having defined and compiled the model, you need to make predications\n",
    "by executing the model on some data. Here you need to specify the\n",
    "epochs; these are the number of iterations for the training process to run\n",
    "through the data set and the batch size, which is the number of instances\n",
    "that are evaluated before a weight update. For this problem, the program\n",
    "will run for a small number of epochs (10), and in each epoch, it will\n",
    "complete 50(=50,000/1,000) iterations where the batch size is 1,000 and the\n",
    "training data set has 50,000 instances/images. Again, there is no hard rule\n",
    "to select the batch size. But it should not be very small, and it should be\n",
    "much less than the size of the training data set to consume less memory."
   ]
  },
  {
   "cell_type": "code",
   "execution_count": null,
   "metadata": {},
   "outputs": [
    {
     "name": "stdout",
     "output_type": "stream",
     "text": [
      "Train on 50000 samples, validate on 10000 samples\n",
      "Epoch 1/10\n",
      "10000/50000 [=====>........................] - ETA: 992s - loss: 2.8559 - acc: 0.1622"
     ]
    }
   ],
   "source": [
    "#make the model learn(fit the model)\n",
    "model.fit(X_train,y_train,batch_size=10000, nb_epoch=10, validation_data=(X_test,y_test))"
   ]
  },
  {
   "cell_type": "markdown",
   "metadata": {},
   "source": [
    "# Evaluate Model\n",
    "Having trained the neural networks on the training data sets, you need\n",
    "to evaluate the performance of the network. Note that this will only give\n",
    "you an idea of how well you have modeled the data set (e.g., the train\n",
    "accuracy), but you won’t know how well the algorithm might perform\n",
    "on new data. This is for simplicity, but ideally, you could separate your\n",
    "data into train and test data sets for the training and evaluation of your\n",
    "model. You can evaluate your model on your training data set using the\n",
    "evaluation() function on your model and pass it the same input and\n",
    "output used to train the model. This will generate a prediction for each\n",
    "input and output pair and collect scores, including the average loss and\n",
    "any metrics you have configured, such as accuracy"
   ]
  },
  {
   "cell_type": "code",
   "execution_count": null,
   "metadata": {},
   "outputs": [],
   "source": [
    "#evaluate how the model does on the test set\n",
    "score=model.evaluate(X_test,y_test, verbose=0)\n",
    "#Accuracy score\n",
    "print('Test accuracy:',score[1])"
   ]
  },
  {
   "cell_type": "code",
   "execution_count": null,
   "metadata": {},
   "outputs": [],
   "source": [
    "#prediction\n",
    "\n",
    "#predict digit(0-9) for test data\n",
    "model.predict_classes(X_test)"
   ]
  },
  {
   "cell_type": "markdown",
   "metadata": {},
   "source": [
    "# save and reload the model"
   ]
  },
  {
   "cell_type": "code",
   "execution_count": null,
   "metadata": {},
   "outputs": [],
   "source": [
    "#saving the model\n",
    "model.save('model.h5')\n",
    "jsonModel = model.to_json()\n",
    "model.save_weights('modelweight.h5')\n"
   ]
  },
  {
   "cell_type": "code",
   "execution_count": null,
   "metadata": {},
   "outputs": [],
   "source": [
    "#load weight of the saved model\n",
    "modelwt = model.load_weights('modelweight.h5')"
   ]
  },
  {
   "cell_type": "code",
   "execution_count": null,
   "metadata": {},
   "outputs": [],
   "source": [
    "model.summary()"
   ]
  }
 ],
 "metadata": {
  "kernelspec": {
   "display_name": "Python 3",
   "language": "python",
   "name": "python3"
  },
  "language_info": {
   "codemirror_mode": {
    "name": "ipython",
    "version": 3
   },
   "file_extension": ".py",
   "mimetype": "text/x-python",
   "name": "python",
   "nbconvert_exporter": "python",
   "pygments_lexer": "ipython3",
   "version": "3.7.6"
  }
 },
 "nbformat": 4,
 "nbformat_minor": 4
}
